{
  "nbformat": 4,
  "nbformat_minor": 0,
  "metadata": {
    "colab": {
      "provenance": [],
      "authorship_tag": "ABX9TyPWmQ9xb74chouVD4upc/LC",
      "include_colab_link": true
    },
    "kernelspec": {
      "name": "python3",
      "display_name": "Python 3"
    },
    "language_info": {
      "name": "python"
    }
  },
  "cells": [
    {
      "cell_type": "markdown",
      "metadata": {
        "id": "view-in-github",
        "colab_type": "text"
      },
      "source": [
        "<a href=\"https://colab.research.google.com/github/BhavyaManvitha-Chinni/fullstack1/blob/main/Untitled6.ipynb\" target=\"_parent\"><img src=\"https://colab.research.google.com/assets/colab-badge.svg\" alt=\"Open In Colab\"/></a>"
      ]
    },
    {
      "cell_type": "code",
      "execution_count": 10,
      "metadata": {
        "id": "p53Kr64drIy8",
        "colab": {
          "base_uri": "https://localhost:8080/"
        },
        "outputId": "56a3389f-b26a-4443-ab71-85e0c838475e"
      },
      "outputs": [
        {
          "output_type": "stream",
          "name": "stdout",
          "text": [
            "(9742, 3)\n"
          ]
        }
      ],
      "source": [
        "import pandas as pd\n",
        "import matplotlib.pyplot as plt\n",
        "movies=pd.read_csv(\"/content/movies.csv\")\n",
        "print(movies.shape)\n"
      ]
    },
    {
      "cell_type": "code",
      "source": [
        "ratings=pd.read_csv(\"/content/ratings.csv\")\n",
        "print(ratings.shape)"
      ],
      "metadata": {
        "colab": {
          "base_uri": "https://localhost:8080/"
        },
        "id": "FESeSog1sLYH",
        "outputId": "4185706f-8ba9-4522-8ab1-0ca3297612a6"
      },
      "execution_count": 2,
      "outputs": [
        {
          "output_type": "stream",
          "name": "stdout",
          "text": [
            "(100836, 4)\n"
          ]
        }
      ]
    },
    {
      "cell_type": "code",
      "source": [
        "unique_users = ratings['userId'].nunique()\n",
        "print(unique_users)"
      ],
      "metadata": {
        "colab": {
          "base_uri": "https://localhost:8080/"
        },
        "id": "S9WWVNmesPkn",
        "outputId": "66144ae0-84a3-429d-e522-1a2196341ac1"
      },
      "execution_count": 3,
      "outputs": [
        {
          "output_type": "stream",
          "name": "stdout",
          "text": [
            "610\n"
          ]
        }
      ]
    },
    {
      "cell_type": "code",
      "source": [
        "ratings_count = ratings.groupby('movieId')['rating'].count().reset_index()\n",
        "ratings_count.columns = ['movieId', 'rating_count']\n",
        "merged_df = pd.merge(ratings_count, movies, on='movieId')\n",
        "max_rated_movie = merged_df.loc[merged_df['rating_count'].idxmax()]\n",
        "print(max_rated_movie['title'])\n"
      ],
      "metadata": {
        "colab": {
          "base_uri": "https://localhost:8080/"
        },
        "id": "5cSNkMvhsrZj",
        "outputId": "e02c6751-bee6-4735-a561-f1685dda07dd"
      },
      "execution_count": 4,
      "outputs": [
        {
          "output_type": "stream",
          "name": "stdout",
          "text": [
            "Forrest Gump (1994)\n"
          ]
        }
      ]
    },
    {
      "cell_type": "code",
      "source": [
        "tags=pd.read_csv(\"/content/tags.csv\")\n",
        "print(tags.shape)"
      ],
      "metadata": {
        "colab": {
          "base_uri": "https://localhost:8080/"
        },
        "id": "OZ_DLWQhs6CM",
        "outputId": "34a87706-9c5b-46c8-f301-44281257eb30"
      },
      "execution_count": 5,
      "outputs": [
        {
          "output_type": "stream",
          "name": "stdout",
          "text": [
            "(3683, 4)\n"
          ]
        }
      ]
    },
    {
      "cell_type": "code",
      "source": [
        "matrix_movie_id = movies[movies['title'] == 'Matrix, The (1999)']['movieId'].values[0]\n",
        "matrix_tags = tags[tags['movieId'] == matrix_movie_id]['tag'].unique()\n",
        "print(matrix_tags)"
      ],
      "metadata": {
        "colab": {
          "base_uri": "https://localhost:8080/"
        },
        "id": "BcANTuiftG7p",
        "outputId": "c6717fe5-5241-4843-8c0c-ba46110163f7"
      },
      "execution_count": 6,
      "outputs": [
        {
          "output_type": "stream",
          "name": "stdout",
          "text": [
            "['martial arts' 'sci-fi' 'alternate universe' 'philosophy'\n",
            " 'post apocalyptic']\n"
          ]
        }
      ]
    },
    {
      "cell_type": "code",
      "source": [
        "terminator_movie_id = movies[movies['title'] == 'Terminator 2: Judgment Day (1991)']['movieId'].values[0]\n",
        "# The tags DataFrame does not have a 'rating' column. Using 'timestamp' column instead.\n",
        "terminator_ratings = tags[tags['movieId'] == terminator_movie_id]['timestamp']\n",
        "average_rating = terminator_ratings.mean()\n",
        "print(average_rating)"
      ],
      "metadata": {
        "colab": {
          "base_uri": "https://localhost:8080/"
        },
        "id": "A83kIT7ItrSX",
        "outputId": "317dcc02-b594-4f9d-d321-3842621106c6"
      },
      "execution_count": 8,
      "outputs": [
        {
          "output_type": "stream",
          "name": "stdout",
          "text": [
            "1385680262.625\n"
          ]
        }
      ]
    },
    {
      "cell_type": "code",
      "source": [
        "fight_club_movie_id = movies[movies['title'] == 'Fight Club (1999)']['movieId'].values[0]\n",
        "# The tags DataFrame does not have a 'rating' column. Using 'timestamp' column instead.\n",
        "fight_club_ratings = tags[tags['movieId'] == fight_club_movie_id]['timestamp']\n",
        "\n",
        "plt.hist(fight_club_ratings, bins=10, edgecolor='black')\n",
        "plt.title('User Ratings Distribution for \"Fight Club (1999)\"')\n",
        "plt.xlabel('Rating')\n",
        "plt.ylabel('Frequency')\n",
        "plt.show()"
      ],
      "metadata": {
        "colab": {
          "base_uri": "https://localhost:8080/",
          "height": 472
        },
        "id": "SLMwMxT2tt8k",
        "outputId": "24212457-e0fb-4245-c183-31fea96bce7d"
      },
      "execution_count": 12,
      "outputs": [
        {
          "output_type": "display_data",
          "data": {
            "text/plain": [
              "<Figure size 640x480 with 1 Axes>"
            ],
            "image/png": "[encoded data removed]"
          },
          "metadata": {}
        }
      ]
    },
    {
      "cell_type": "code",
      "source": [
        "ratings = pd.read_csv('ratings.csv')\n",
        "movies = pd.read_csv('movies.csv')\n",
        "\n",
        "\n",
        "ratings_grouped = ratings.groupby('movieId')['rating'].agg(['count', 'mean']).reset_index()\n",
        "ratings_grouped.columns = ['movieId', 'rating_count', 'rating_mean']\n",
        "\n",
        "\n",
        "merged_df = pd.merge(movies, ratings_grouped, on='movieId', how='inner')\n",
        "\n",
        "\n",
        "filtered_movies = merged_df[merged_df['rating_count'] > 50]\n",
        "\n",
        "filtered_movies"
      ],
      "metadata": {
        "id": "UlirrsuDuvKP"
      },
      "execution_count": null,
      "outputs": []
    },
    {
      "cell_type": "code",
      "source": [
        "ratings_grouped = ratings.groupby('movieId')['rating'].agg(['count', 'mean']).reset_index()\n",
        "ratings_grouped.columns = ['movieId', 'rating_count', 'rating_mean']\n",
        "\n",
        "# Merge with movies DataFrame\n",
        "merged_df = pd.merge(movies, ratings_grouped, on='movieId', how='inner')\n",
        "\n",
        "# Filter movies with more than 50 ratings\n",
        "filtered_movies = merged_df[merged_df['rating_count'] > 50]\n",
        "\n",
        "# Filter the movies of interest\n",
        "movies_of_interest = ['Godfather, The (1972)', 'Shawshank Redemption, The (1994)', 'Jumanji (1995)', 'Wolf of Wall Street, The (2013)']\n",
        "filtered_movies_interest = filtered_movies[filtered_movies['title'].isin(movies_of_interest)]\n",
        "\n",
        "# Find the movie with the highest average rating\n",
        "most_popular_movie = filtered_movies_interest.loc[filtered_movies_interest['rating_mean'].idxmax()]\n",
        "\n",
        "print(f\"The most popular movie based on average user ratings is: {most_popular_movie['title']}\")"
      ],
      "metadata": {
        "colab": {
          "base_uri": "https://localhost:8080/"
        },
        "id": "JuK3sjW1vaOE",
        "outputId": "8dbea497-9897-495b-ca05-a1810686a9b2"
      },
      "execution_count": 16,
      "outputs": [
        {
          "output_type": "stream",
          "name": "stdout",
          "text": [
            "The most popular movie based on average user ratings is: Shawshank Redemption, The (1994)\n"
          ]
        }
      ]
    },
    {
      "cell_type": "code",
      "source": [
        "\n",
        "# Group ratings by movieId and calculate count and mean\n",
        "ratings_grouped = ratings.groupby('movieId')['rating'].agg(['count', 'mean']).reset_index()\n",
        "ratings_grouped.columns = ['movieId', 'rating_count', 'rating_mean']\n",
        "\n",
        "# Merge with movies DataFrame\n",
        "merged_df = pd.merge(movies, ratings_grouped, on='movieId', how='inner')\n",
        "\n",
        "# Filter movies with more than 50 ratings\n",
        "filtered_movies = merged_df[merged_df['rating_count'] > 50]\n",
        "\n",
        "# Get the top 5 movies based on the number of ratings\n",
        "top_5_movies = filtered_movies.nlargest(5, 'rating_count')\n",
        "\n",
        "# Check which of the provided options are in the top 5\n",
        "options = ['Pulp Fiction (1994)', 'Bad Boys (1995)', 'Silence of the Lambs, The (1991)', 'Matrix, The (1999)']\n",
        "top_5_movies_list = top_5_movies['title'].tolist()\n",
        "selected_options = [movie for movie in options if movie in top_5_movies_list]\n",
        "\n",
        "print(f\"The movies among the top 5 based on number of user ratings are: {selected_options}\")"
      ],
      "metadata": {
        "colab": {
          "base_uri": "https://localhost:8080/"
        },
        "id": "O72BaY8swU6T",
        "outputId": "672a5d6e-2e2e-4634-9e6d-26c6a68480a9"
      },
      "execution_count": 17,
      "outputs": [
        {
          "output_type": "stream",
          "name": "stdout",
          "text": [
            "The movies among the top 5 based on number of user ratings are: ['Pulp Fiction (1994)', 'Silence of the Lambs, The (1991)', 'Matrix, The (1999)']\n"
          ]
        }
      ]
    },
    {
      "cell_type": "code",
      "source": [
        "filtered_movies = merged_df[merged_df['rating_count'] > 50]\n",
        "\n",
        "# Filter for Sci-Fi genre\n",
        "sci_fi_movies = filtered_movies[filtered_movies['genres'].str.contains('Sci-Fi')]\n",
        "\n",
        "# Get the third most popular Sci-Fi movie based on number of ratings\n",
        "third_most_popular_sci_fi = sci_fi_movies.nlargest(3, 'rating_count').iloc[2]\n",
        "\n",
        "print(f\"The third most popular Sci-Fi movie based on the number of user ratings is: {third_most_popular_sci_fi['title']}\")"
      ],
      "metadata": {
        "colab": {
          "base_uri": "https://localhost:8080/"
        },
        "id": "rLcnWFWdxCg8",
        "outputId": "40ac7c99-e4b4-4922-89ee-9bf1dd90e60d"
      },
      "execution_count": 18,
      "outputs": [
        {
          "output_type": "stream",
          "name": "stdout",
          "text": [
            "The third most popular Sci-Fi movie based on the number of user ratings is: Jurassic Park (1993)\n"
          ]
        }
      ]
    },
    {
      "cell_type": "code",
      "source": [
        "import pandas as pd\n",
        "\n",
        "# Load the links.csv file\n",
        "links = pd.read_csv('links.csv')\n",
        "\n",
        "# Assuming `filtered_movies` is your DataFrame with movies that have more than 50 ratings\n",
        "# Merge the links DataFrame with your filtered_movies DataFrame to get IMDb IDs\n",
        "merged_df = pd.merge(filtered_movies, links, on='movieId', how='inner')\n",
        "\n",
        "print(merged_df[['title', 'imdbId']])\n"
      ],
      "metadata": {
        "colab": {
          "base_uri": "https://localhost:8080/"
        },
        "id": "yVpqGbexxW0C",
        "outputId": "d15a4f45-28d5-45d1-8122-8cc8a21199fc"
      },
      "execution_count": 19,
      "outputs": [
        {
          "output_type": "stream",
          "name": "stdout",
          "text": [
            "                                title   imdbId\n",
            "0                    Toy Story (1995)   114709\n",
            "1                      Jumanji (1995)   113497\n",
            "2             Grumpier Old Men (1995)   113228\n",
            "3                         Heat (1995)   113277\n",
            "4                      Sabrina (1995)   114319\n",
            "..                                ...      ...\n",
            "431   Wolf of Wall Street, The (2013)   993846\n",
            "432  Grand Budapest Hotel, The (2014)  2278388\n",
            "433               Interstellar (2014)   816692\n",
            "434    Guardians of the Galaxy (2014)  2015381\n",
            "435                   Deadpool (2016)  1431045\n",
            "\n",
            "[436 rows x 2 columns]\n"
          ]
        }
      ]
    },
    {
      "cell_type": "code",
      "source": [
        "import requests\n",
        "from bs4 import BeautifulSoup\n",
        "import pandas as pd\n",
        "\n",
        "# Function to scrape IMDb reviews\n",
        "def scrape_imdb_reviews(imdb_id):\n",
        "    url = f'https://www.imdb.com/title/tt{imdb_id}/reviews'\n",
        "    headers = {'User-Agent': 'Mozilla/5.0 (Windows NT 10.0; Win64; x64) AppleWebKit/537.36 (KHTML, like Gecko) Chrome/91.0.4472.124 Safari/537.36'}\n",
        "    response = requests.get(url, headers=headers)\n",
        "    soup = BeautifulSoup(response.content, 'html.parser')\n",
        "\n",
        "    reviews = []\n",
        "    review_elements = soup.find_all('div', class_='sc-16ede01-2 gkDgDk')\n",
        "\n",
        "    for element in review_elements:\n",
        "        review_text = element.get_text(strip=True)\n",
        "        reviews.append(review_text)\n",
        "\n",
        "    return reviews\n",
        "\n",
        "# Assuming `merged_df` is your DataFrame with movie titles and IMDb IDs\n",
        "reviews_data = []\n",
        "\n",
        "for index, row in merged_df.iterrows():\n",
        "    imdb_id = row['imdbId']\n",
        "    reviews = scrape_imdb_reviews(imdb_id)\n",
        "    reviews_data.append({'title': row['title'], 'reviews': reviews})\n",
        "\n",
        "# Convert to DataFrame for further processing or saving\n",
        "reviews_df = pd.DataFrame(reviews_data)\n",
        "print(reviews_df)\n"
      ],
      "metadata": {
        "colab": {
          "base_uri": "https://localhost:8080/"
        },
        "id": "3Xai0rsZxZiq",
        "outputId": "6f805d63-74b1-4543-cfd5-0684f34d7960"
      },
      "execution_count": 20,
      "outputs": [
        {
          "output_type": "stream",
          "name": "stdout",
          "text": [
            "                                title reviews\n",
            "0                    Toy Story (1995)      []\n",
            "1                      Jumanji (1995)      []\n",
            "2             Grumpier Old Men (1995)      []\n",
            "3                         Heat (1995)      []\n",
            "4                      Sabrina (1995)      []\n",
            "..                                ...     ...\n",
            "431   Wolf of Wall Street, The (2013)      []\n",
            "432  Grand Budapest Hotel, The (2014)      []\n",
            "433               Interstellar (2014)      []\n",
            "434    Guardians of the Galaxy (2014)      []\n",
            "435                   Deadpool (2016)      []\n",
            "\n",
            "[436 rows x 2 columns]\n"
          ]
        }
      ]
    },
    {
      "cell_type": "code",
      "source": [
        "import pandas as pd\n",
        "import requests\n",
        "from bs4 import BeautifulSoup\n",
        "\n",
        "# Function to scrape IMDb rating\n",
        "def scrape_imdb_rating(imdb_id):\n",
        "    url = f'https://www.imdb.com/title/tt{imdb_id}/'\n",
        "    headers = {'User-Agent': 'Mozilla/5.0'}\n",
        "    response = requests.get(url, headers=headers)\n",
        "    soup = BeautifulSoup(response.content, 'html.parser')\n",
        "\n",
        "    rating_element = soup.find('span', itemprop='ratingValue')\n",
        "    if rating_element:\n",
        "        return float(rating_element.get_text(strip=True))\n",
        "    return None\n",
        "\n",
        "# Load the movies and links DataFrame\n",
        "movies = pd.read_csv('movies.csv')\n",
        "links = pd.read_csv('links.csv')\n",
        "\n",
        "# Merge datasets to get IMDb IDs\n",
        "merged_df = pd.merge(movies, links, on='movieId', how='inner')\n",
        "\n",
        "# Get IMDb ratings\n",
        "ratings = []\n",
        "for index, row in merged_df.iterrows():\n",
        "    imdb_id = row['imdbId']\n",
        "    rating = scrape_imdb_rating(imdb_id)\n",
        "    ratings.append({'movieId': row['movieId'], 'rating': rating})\n",
        "\n",
        "# Convert ratings to DataFrame\n",
        "ratings_df = pd.DataFrame(ratings)\n",
        "\n",
        "# Find the movie with the highest IMDb rating\n",
        "highest_rated_movie = ratings_df.loc[ratings_df['rating'].idxmax()]\n",
        "highest_rated_movie_id = highest_rated_movie['movieId']\n",
        "\n",
        "print(f\"The movieId of the movie with the highest IMDb rating is: {highest_rated_movie_id}\")\n"
      ],
      "metadata": {
        "id": "MsCfQYpryCdO"
      },
      "execution_count": null,
      "outputs": []
    },
    {
      "cell_type": "code",
      "source": [
        "import pandas as pd\n",
        "import requests\n",
        "from bs4 import BeautifulSoup\n",
        "\n",
        "# Function to scrape IMDb rating\n",
        "def scrape_imdb_rating(imdb_id):\n",
        "    url = f'https://www.imdb.com/title/tt{imdb_id}/'\n",
        "    headers = {'User-Agent': 'Mozilla/5.0'}\n",
        "    response = requests.get(url, headers=headers)\n",
        "    soup = BeautifulSoup(response.content, 'html.parser')\n",
        "\n",
        "    rating_element = soup.find('span', itemprop='ratingValue')\n",
        "    if rating_element:\n",
        "        return float(rating_element.get_text(strip=True))\n",
        "    return None\n",
        "\n",
        "# Load the movies and links DataFrame\n",
        "movies = pd.read_csv('movies.csv')\n",
        "links = pd.read_csv('links.csv')\n",
        "\n",
        "# Merge datasets to get IMDb IDs\n",
        "merged_df = pd.merge(movies, links, on='movieId', how='inner')\n",
        "\n",
        "# Filter for Sci-Fi genre\n",
        "sci_fi_movies = merged_df[merged_df['genres'].str.contains('Sci-Fi')]\n",
        "\n",
        "# Get IMDb ratings for Sci-Fi movies\n",
        "ratings = []\n",
        "for index, row in sci_fi_movies.iterrows():\n",
        "    imdb_id = row['imdbId']\n",
        "    rating = scrape_imdb_rating(imdb_id)\n",
        "    ratings.append({'movieId': row['movieId'], 'rating': rating})\n",
        "\n",
        "# Convert ratings to DataFrame\n",
        "ratings_df = pd.DataFrame(ratings)\n",
        "\n",
        "# Find the Sci-Fi movie with the highest IMDb rating\n",
        "highest_rated_sci_fi = ratings_df.loc[ratings_df['rating'].idxmax()]\n",
        "highest_rated_sci_fi_movie_id = highest_rated_sci_fi['movieId']\n",
        "\n",
        "print(f\"The movieId of the Sci-Fi movie with the highest IMDb rating is: {highest_rated_sci_fi_movie_id}\")\n"
      ],
      "metadata": {
        "id": "A_Xr_iEYyDGs"
      },
      "execution_count": null,
      "outputs": []
    }
  ]
}